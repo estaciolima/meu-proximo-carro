{
 "cells": [
  {
   "cell_type": "code",
   "execution_count": 1,
   "metadata": {},
   "outputs": [],
   "source": [
    "import pandas as pd\n",
    "import matplotlib.pyplot as plt\n",
    "import seaborn as sns"
   ]
  },
  {
   "cell_type": "code",
   "execution_count": 40,
   "metadata": {},
   "outputs": [
    {
     "data": {
      "text/html": [
       "<div>\n",
       "<style scoped>\n",
       "    .dataframe tbody tr th:only-of-type {\n",
       "        vertical-align: middle;\n",
       "    }\n",
       "\n",
       "    .dataframe tbody tr th {\n",
       "        vertical-align: top;\n",
       "    }\n",
       "\n",
       "    .dataframe thead th {\n",
       "        text-align: right;\n",
       "    }\n",
       "</style>\n",
       "<table border=\"1\" class=\"dataframe\">\n",
       "  <thead>\n",
       "    <tr style=\"text-align: right;\">\n",
       "      <th></th>\n",
       "      <th>Valor</th>\n",
       "      <th>Marca</th>\n",
       "      <th>Modelo</th>\n",
       "      <th>AnoModelo</th>\n",
       "      <th>Combustivel</th>\n",
       "      <th>CodigoFipe</th>\n",
       "      <th>MesReferencia</th>\n",
       "      <th>Autenticacao</th>\n",
       "      <th>TipoVeiculo</th>\n",
       "      <th>SiglaCombustivel</th>\n",
       "      <th>DataConsulta</th>\n",
       "    </tr>\n",
       "  </thead>\n",
       "  <tbody>\n",
       "    <tr>\n",
       "      <th>20</th>\n",
       "      <td>R$ 111.020,00</td>\n",
       "      <td>Fiat</td>\n",
       "      <td>Fastback 1.0 200 Turbo Flex Aut</td>\n",
       "      <td>2024</td>\n",
       "      <td>Gasolina</td>\n",
       "      <td>001568-7</td>\n",
       "      <td>agosto de 2023</td>\n",
       "      <td>gjhk3d2qvfdt3</td>\n",
       "      <td>1</td>\n",
       "      <td>G</td>\n",
       "      <td>sexta-feira, 11 de abril de 2025 16:14</td>\n",
       "    </tr>\n",
       "    <tr>\n",
       "      <th>19</th>\n",
       "      <td>R$ 110.409,00</td>\n",
       "      <td>Fiat</td>\n",
       "      <td>Fastback 1.0 200 Turbo Flex Aut</td>\n",
       "      <td>2024</td>\n",
       "      <td>Gasolina</td>\n",
       "      <td>001568-7</td>\n",
       "      <td>setembro de 2023</td>\n",
       "      <td>ghscnksfm4dt3</td>\n",
       "      <td>1</td>\n",
       "      <td>G</td>\n",
       "      <td>sexta-feira, 11 de abril de 2025 16:14</td>\n",
       "    </tr>\n",
       "    <tr>\n",
       "      <th>18</th>\n",
       "      <td>R$ 114.273,00</td>\n",
       "      <td>Fiat</td>\n",
       "      <td>Fastback 1.0 200 Turbo Flex Aut</td>\n",
       "      <td>2024</td>\n",
       "      <td>Gasolina</td>\n",
       "      <td>001568-7</td>\n",
       "      <td>outubro de 2023</td>\n",
       "      <td>gm9tfx0rrjdt3</td>\n",
       "      <td>1</td>\n",
       "      <td>G</td>\n",
       "      <td>sexta-feira, 11 de abril de 2025 16:14</td>\n",
       "    </tr>\n",
       "    <tr>\n",
       "      <th>17</th>\n",
       "      <td>R$ 115.040,00</td>\n",
       "      <td>Fiat</td>\n",
       "      <td>Fastback 1.0 200 Turbo Flex Aut</td>\n",
       "      <td>2024</td>\n",
       "      <td>Gasolina</td>\n",
       "      <td>001568-7</td>\n",
       "      <td>novembro de 2023</td>\n",
       "      <td>gn6pnt60fgdt3</td>\n",
       "      <td>1</td>\n",
       "      <td>G</td>\n",
       "      <td>sexta-feira, 11 de abril de 2025 16:14</td>\n",
       "    </tr>\n",
       "    <tr>\n",
       "      <th>16</th>\n",
       "      <td>R$ 117.174,00</td>\n",
       "      <td>Fiat</td>\n",
       "      <td>Fastback 1.0 200 Turbo Flex Aut</td>\n",
       "      <td>2024</td>\n",
       "      <td>Gasolina</td>\n",
       "      <td>001568-7</td>\n",
       "      <td>dezembro de 2023</td>\n",
       "      <td>grp748zrzydt3</td>\n",
       "      <td>1</td>\n",
       "      <td>G</td>\n",
       "      <td>sexta-feira, 11 de abril de 2025 16:14</td>\n",
       "    </tr>\n",
       "  </tbody>\n",
       "</table>\n",
       "</div>"
      ],
      "text/plain": [
       "            Valor Marca                           Modelo  AnoModelo  \\\n",
       "20  R$ 111.020,00  Fiat  Fastback 1.0 200 Turbo Flex Aut       2024   \n",
       "19  R$ 110.409,00  Fiat  Fastback 1.0 200 Turbo Flex Aut       2024   \n",
       "18  R$ 114.273,00  Fiat  Fastback 1.0 200 Turbo Flex Aut       2024   \n",
       "17  R$ 115.040,00  Fiat  Fastback 1.0 200 Turbo Flex Aut       2024   \n",
       "16  R$ 117.174,00  Fiat  Fastback 1.0 200 Turbo Flex Aut       2024   \n",
       "\n",
       "   Combustivel CodigoFipe      MesReferencia   Autenticacao  TipoVeiculo  \\\n",
       "20    Gasolina   001568-7    agosto de 2023   gjhk3d2qvfdt3            1   \n",
       "19    Gasolina   001568-7  setembro de 2023   ghscnksfm4dt3            1   \n",
       "18    Gasolina   001568-7   outubro de 2023   gm9tfx0rrjdt3            1   \n",
       "17    Gasolina   001568-7  novembro de 2023   gn6pnt60fgdt3            1   \n",
       "16    Gasolina   001568-7  dezembro de 2023   grp748zrzydt3            1   \n",
       "\n",
       "   SiglaCombustivel                            DataConsulta  \n",
       "20                G  sexta-feira, 11 de abril de 2025 16:14  \n",
       "19                G  sexta-feira, 11 de abril de 2025 16:14  \n",
       "18                G  sexta-feira, 11 de abril de 2025 16:14  \n",
       "17                G  sexta-feira, 11 de abril de 2025 16:14  \n",
       "16                G  sexta-feira, 11 de abril de 2025 16:14  "
      ]
     },
     "execution_count": 40,
     "metadata": {},
     "output_type": "execute_result"
    }
   ],
   "source": [
    "df = pd.read_csv('historico_fastback.csv')\n",
    "df = df.iloc[::-1]\n",
    "df.head()"
   ]
  },
  {
   "cell_type": "code",
   "execution_count": 9,
   "metadata": {},
   "outputs": [
    {
     "data": {
      "text/plain": [
       "(21, 11)"
      ]
     },
     "execution_count": 9,
     "metadata": {},
     "output_type": "execute_result"
    }
   ],
   "source": [
    "df.shape"
   ]
  },
  {
   "cell_type": "code",
   "execution_count": 41,
   "metadata": {},
   "outputs": [
    {
     "data": {
      "text/plain": [
       "20    111020.0\n",
       "19    110409.0\n",
       "18    114273.0\n",
       "17    115040.0\n",
       "16    117174.0\n",
       "15    116726.0\n",
       "14    112640.0\n",
       "13    112527.0\n",
       "12    111201.0\n",
       "11    111592.0\n",
       "10    111964.0\n",
       "9     109843.0\n",
       "8     108549.0\n",
       "7     108626.0\n",
       "6     107895.0\n",
       "5     108672.0\n",
       "4     108625.0\n",
       "3     107990.0\n",
       "2     109377.0\n",
       "1     107843.0\n",
       "0     109246.0\n",
       "Name: Valor, dtype: float64"
      ]
     },
     "execution_count": 41,
     "metadata": {},
     "output_type": "execute_result"
    }
   ],
   "source": [
    "df['Valor'] = df['Valor'].apply(lambda x: float(x.split()[1].replace('.','').replace(',','.')))\n",
    "df['Valor']"
   ]
  },
  {
   "cell_type": "code",
   "execution_count": 42,
   "metadata": {},
   "outputs": [],
   "source": [
    "df['Variação (%)'] = df['Valor'].pct_change()*100\n",
    "\n",
    "\n",
    "df['Hover'] = df.apply(\n",
    "    lambda row: f\"Data: {row['MesReferencia']}<br>Valor: {row['Valor']:.2f}<br>Variação: {row['Variação (%)']:.2f}%\" \n",
    "    if not pd.isna(row['Variação (%)']) else\n",
    "    f\"Data: {row['MesReferencia']}<br>Valor: {row['Valor']:.2f}<br>Variação: N/A\",\n",
    "    axis=1\n",
    ")"
   ]
  },
  {
   "cell_type": "code",
   "execution_count": null,
   "metadata": {},
   "outputs": [
    {
     "data": {
      "text/plain": [
       "([0, 1, 2, 3, 4, 5, 6, 7, 8, 9, 10, 11, 12, 13, 14, 15, 16, 17, 18, 19, 20],\n",
       " [Text(0, 0, 'agosto de 2023 '),\n",
       "  Text(1, 0, 'setembro de 2023 '),\n",
       "  Text(2, 0, 'outubro de 2023 '),\n",
       "  Text(3, 0, 'novembro de 2023 '),\n",
       "  Text(4, 0, 'dezembro de 2023 '),\n",
       "  Text(5, 0, 'janeiro de 2024 '),\n",
       "  Text(6, 0, 'fevereiro de 2024 '),\n",
       "  Text(7, 0, 'março de 2024 '),\n",
       "  Text(8, 0, 'abril de 2024 '),\n",
       "  Text(9, 0, 'maio de 2024 '),\n",
       "  Text(10, 0, 'junho de 2024 '),\n",
       "  Text(11, 0, 'julho de 2024 '),\n",
       "  Text(12, 0, 'agosto de 2024 '),\n",
       "  Text(13, 0, 'setembro de 2024 '),\n",
       "  Text(14, 0, 'outubro de 2024 '),\n",
       "  Text(15, 0, 'novembro de 2024 '),\n",
       "  Text(16, 0, 'dezembro de 2024 '),\n",
       "  Text(17, 0, 'janeiro de 2025 '),\n",
       "  Text(18, 0, 'fevereiro de 2025 '),\n",
       "  Text(19, 0, 'março de 2025 '),\n",
       "  Text(20, 0, 'abril de 2025 ')])"
      ]
     },
     "execution_count": 20,
     "metadata": {},
     "output_type": "execute_result"
    },
    {
     "data": {
      "image/png": "[encoded data removed]",
      "text/plain": [
       "<Figure size 1500x600 with 1 Axes>"
      ]
     },
     "metadata": {},
     "output_type": "display_data"
    }
   ],
   "source": [
    "df_reverse_rows = df.iloc[::-1]\n",
    "fig, ax = plt.subplots(figsize=(15,6))\n",
    "sns.set_style('whitegrid')\n",
    "sns.set_context('paper', rc={'lines.linewidth':3, 'lines.markersize': 8, 'axes.grid': True})\n",
    "sns.lineplot(x='MesReferencia', y='Valor', data=df_reverse_rows, ax=ax)\n",
    "sns.scatterplot(x='MesReferencia', y='Valor', data=df_reverse_rows, ax=ax)\n",
    "ax.set_title(f'Preço do {df[\"Modelo\"][0]} {df[\"AnoModelo\"][0]} ao longo do tempo segundo a tabela FIPE', fontdict={'fontsize': 15})\n",
    "ax.set_xlabel('Mês e ano referência')\n",
    "ax.set_ylabel('Valor (BRL)')\n",
    "plt.xticks(rotation=25)\n"
   ]
  },
  {
   "cell_type": "code",
   "execution_count": 27,
   "metadata": {},
   "outputs": [],
   "source": [
    "import plotly.graph_objects as go"
   ]
  },
  {
   "cell_type": "code",
   "execution_count": null,
   "metadata": {},
   "outputs": [
    {
     "data": {
      "application/vnd.plotly.v1+json": {
       "config": {
        "plotlyServerURL": "https://plot.ly"
       },
       "data": [
        {
         "hoverinfo": "text",
         "hovertext": [
          "Data: agosto de 2023 <br>Valor: 111020.00<br>Variação: N/A",
          "Data: setembro de 2023 <br>Valor: 110409.00<br>Variação: -0.55%",
          "Data: outubro de 2023 <br>Valor: 114273.00<br>Variação: 3.50%",
          "Data: novembro de 2023 <br>Valor: 115040.00<br>Variação: 0.67%",
          "Data: dezembro de 2023 <br>Valor: 117174.00<br>Variação: 1.86%",
          "Data: janeiro de 2024 <br>Valor: 116726.00<br>Variação: -0.38%",
          "Data: fevereiro de 2024 <br>Valor: 112640.00<br>Variação: -3.50%",
          "Data: março de 2024 <br>Valor: 112527.00<br>Variação: -0.10%",
          "Data: abril de 2024 <br>Valor: 111201.00<br>Variação: -1.18%",
          "Data: maio de 2024 <br>Valor: 111592.00<br>Variação: 0.35%",
          "Data: junho de 2024 <br>Valor: 111964.00<br>Variação: 0.33%",
          "Data: julho de 2024 <br>Valor: 109843.00<br>Variação: -1.89%",
          "Data: agosto de 2024 <br>Valor: 108549.00<br>Variação: -1.18%",
          "Data: setembro de 2024 <br>Valor: 108626.00<br>Variação: 0.07%",
          "Data: outubro de 2024 <br>Valor: 107895.00<br>Variação: -0.67%",
          "Data: novembro de 2024 <br>Valor: 108672.00<br>Variação: 0.72%",
          "Data: dezembro de 2024 <br>Valor: 108625.00<br>Variação: -0.04%",
          "Data: janeiro de 2025 <br>Valor: 107990.00<br>Variação: -0.58%",
          "Data: fevereiro de 2025 <br>Valor: 109377.00<br>Variação: 1.28%",
          "Data: março de 2025 <br>Valor: 107843.00<br>Variação: -1.40%",
          "Data: abril de 2025 <br>Valor: 109246.00<br>Variação: 1.30%"
         ],
         "marker": {
          "color": "blue"
         },
         "mode": "lines+markers",
         "type": "scatter",
         "x": [
          "agosto de 2023 ",
          "setembro de 2023 ",
          "outubro de 2023 ",
          "novembro de 2023 ",
          "dezembro de 2023 ",
          "janeiro de 2024 ",
          "fevereiro de 2024 ",
          "março de 2024 ",
          "abril de 2024 ",
          "maio de 2024 ",
          "junho de 2024 ",
          "julho de 2024 ",
          "agosto de 2024 ",
          "setembro de 2024 ",
          "outubro de 2024 ",
          "novembro de 2024 ",
          "dezembro de 2024 ",
          "janeiro de 2025 ",
          "fevereiro de 2025 ",
          "março de 2025 ",
          "abril de 2025 "
         ],
         "y": [
          111020,
          110409,
          114273,
          115040,
          117174,
          116726,
          112640,
          112527,
          111201,
          111592,
          111964,
          109843,
          108549,
          108626,
          107895,
          108672,
          108625,
          107990,
          109377,
          107843,
          109246
         ]
        }
       ],
       "layout": {
        "hovermode": "x unified",
        "template": {
         "data": {
          "bar": [
           {
            "error_x": {
             "color": "#2a3f5f"
            },
            "error_y": {
             "color": "#2a3f5f"
            },
            "marker": {
             "line": {
              "color": "#E5ECF6",
              "width": 0.5
             },
             "pattern": {
              "fillmode": "overlay",
              "size": 10,
              "solidity": 0.2
             }
            },
            "type": "bar"
           }
          ],
          "barpolar": [
           {
            "marker": {
             "line": {
              "color": "#E5ECF6",
              "width": 0.5
             },
             "pattern": {
              "fillmode": "overlay",
              "size": 10,
              "solidity": 0.2
             }
            },
            "type": "barpolar"
           }
          ],
          "carpet": [
           {
            "aaxis": {
             "endlinecolor": "#2a3f5f",
             "gridcolor": "white",
             "linecolor": "white",
             "minorgridcolor": "white",
             "startlinecolor": "#2a3f5f"
            },
            "baxis": {
             "endlinecolor": "#2a3f5f",
             "gridcolor": "white",
             "linecolor": "white",
             "minorgridcolor": "white",
             "startlinecolor": "#2a3f5f"
            },
            "type": "carpet"
           }
          ],
          "choropleth": [
           {
            "colorbar": {
             "outlinewidth": 0,
             "ticks": ""
            },
            "type": "choropleth"
           }
          ],
          "contour": [
           {
            "colorbar": {
             "outlinewidth": 0,
             "ticks": ""
            },
            "colorscale": [
             [
              0,
              "#0d0887"
             ],
             [
              0.1111111111111111,
              "#46039f"
             ],
             [
              0.2222222222222222,
              "#7201a8"
             ],
             [
              0.3333333333333333,
              "#9c179e"
             ],
             [
              0.4444444444444444,
              "#bd3786"
             ],
             [
              0.5555555555555556,
              "#d8576b"
             ],
             [
              0.6666666666666666,
              "#ed7953"
             ],
             [
              0.7777777777777778,
              "#fb9f3a"
             ],
             [
              0.8888888888888888,
              "#fdca26"
             ],
             [
              1,
              "#f0f921"
             ]
            ],
            "type": "contour"
           }
          ],
          "contourcarpet": [
           {
            "colorbar": {
             "outlinewidth": 0,
             "ticks": ""
            },
            "type": "contourcarpet"
           }
          ],
          "heatmap": [
           {
            "colorbar": {
             "outlinewidth": 0,
             "ticks": ""
            },
            "colorscale": [
             [
              0,
              "#0d0887"
             ],
             [
              0.1111111111111111,
              "#46039f"
             ],
             [
              0.2222222222222222,
              "#7201a8"
             ],
             [
              0.3333333333333333,
              "#9c179e"
             ],
             [
              0.4444444444444444,
              "#bd3786"
             ],
             [
              0.5555555555555556,
              "#d8576b"
             ],
             [
              0.6666666666666666,
              "#ed7953"
             ],
             [
              0.7777777777777778,
              "#fb9f3a"
             ],
             [
              0.8888888888888888,
              "#fdca26"
             ],
             [
              1,
              "#f0f921"
             ]
            ],
            "type": "heatmap"
           }
          ],
          "heatmapgl": [
           {
            "colorbar": {
             "outlinewidth": 0,
             "ticks": ""
            },
            "colorscale": [
             [
              0,
              "#0d0887"
             ],
             [
              0.1111111111111111,
              "#46039f"
             ],
             [
              0.2222222222222222,
              "#7201a8"
             ],
             [
              0.3333333333333333,
              "#9c179e"
             ],
             [
              0.4444444444444444,
              "#bd3786"
             ],
             [
              0.5555555555555556,
              "#d8576b"
             ],
             [
              0.6666666666666666,
              "#ed7953"
             ],
             [
              0.7777777777777778,
              "#fb9f3a"
             ],
             [
              0.8888888888888888,
              "#fdca26"
             ],
             [
              1,
              "#f0f921"
             ]
            ],
            "type": "heatmapgl"
           }
          ],
          "histogram": [
           {
            "marker": {
             "pattern": {
              "fillmode": "overlay",
              "size": 10,
              "solidity": 0.2
             }
            },
            "type": "histogram"
           }
          ],
          "histogram2d": [
           {
            "colorbar": {
             "outlinewidth": 0,
             "ticks": ""
            },
            "colorscale": [
             [
              0,
              "#0d0887"
             ],
             [
              0.1111111111111111,
              "#46039f"
             ],
             [
              0.2222222222222222,
              "#7201a8"
             ],
             [
              0.3333333333333333,
              "#9c179e"
             ],
             [
              0.4444444444444444,
              "#bd3786"
             ],
             [
              0.5555555555555556,
              "#d8576b"
             ],
             [
              0.6666666666666666,
              "#ed7953"
             ],
             [
              0.7777777777777778,
              "#fb9f3a"
             ],
             [
              0.8888888888888888,
              "#fdca26"
             ],
             [
              1,
              "#f0f921"
             ]
            ],
            "type": "histogram2d"
           }
          ],
          "histogram2dcontour": [
           {
            "colorbar": {
             "outlinewidth": 0,
             "ticks": ""
            },
            "colorscale": [
             [
              0,
              "#0d0887"
             ],
             [
              0.1111111111111111,
              "#46039f"
             ],
             [
              0.2222222222222222,
              "#7201a8"
             ],
             [
              0.3333333333333333,
              "#9c179e"
             ],
             [
              0.4444444444444444,
              "#bd3786"
             ],
             [
              0.5555555555555556,
              "#d8576b"
             ],
             [
              0.6666666666666666,
              "#ed7953"
             ],
             [
              0.7777777777777778,
              "#fb9f3a"
             ],
             [
              0.8888888888888888,
              "#fdca26"
             ],
             [
              1,
              "#f0f921"
             ]
            ],
            "type": "histogram2dcontour"
           }
          ],
          "mesh3d": [
           {
            "colorbar": {
             "outlinewidth": 0,
             "ticks": ""
            },
            "type": "mesh3d"
           }
          ],
          "parcoords": [
           {
            "line": {
             "colorbar": {
              "outlinewidth": 0,
              "ticks": ""
             }
            },
            "type": "parcoords"
           }
          ],
          "pie": [
           {
            "automargin": true,
            "type": "pie"
           }
          ],
          "scatter": [
           {
            "fillpattern": {
             "fillmode": "overlay",
             "size": 10,
             "solidity": 0.2
            },
            "type": "scatter"
           }
          ],
          "scatter3d": [
           {
            "line": {
             "colorbar": {
              "outlinewidth": 0,
              "ticks": ""
             }
            },
            "marker": {
             "colorbar": {
              "outlinewidth": 0,
              "ticks": ""
             }
            },
            "type": "scatter3d"
           }
          ],
          "scattercarpet": [
           {
            "marker": {
             "colorbar": {
              "outlinewidth": 0,
              "ticks": ""
             }
            },
            "type": "scattercarpet"
           }
          ],
          "scattergeo": [
           {
            "marker": {
             "colorbar": {
              "outlinewidth": 0,
              "ticks": ""
             }
            },
            "type": "scattergeo"
           }
          ],
          "scattergl": [
           {
            "marker": {
             "colorbar": {
              "outlinewidth": 0,
              "ticks": ""
             }
            },
            "type": "scattergl"
           }
          ],
          "scattermapbox": [
           {
            "marker": {
             "colorbar": {
              "outlinewidth": 0,
              "ticks": ""
             }
            },
            "type": "scattermapbox"
           }
          ],
          "scatterpolar": [
           {
            "marker": {
             "colorbar": {
              "outlinewidth": 0,
              "ticks": ""
             }
            },
            "type": "scatterpolar"
           }
          ],
          "scatterpolargl": [
           {
            "marker": {
             "colorbar": {
              "outlinewidth": 0,
              "ticks": ""
             }
            },
            "type": "scatterpolargl"
           }
          ],
          "scatterternary": [
           {
            "marker": {
             "colorbar": {
              "outlinewidth": 0,
              "ticks": ""
             }
            },
            "type": "scatterternary"
           }
          ],
          "surface": [
           {
            "colorbar": {
             "outlinewidth": 0,
             "ticks": ""
            },
            "colorscale": [
             [
              0,
              "#0d0887"
             ],
             [
              0.1111111111111111,
              "#46039f"
             ],
             [
              0.2222222222222222,
              "#7201a8"
             ],
             [
              0.3333333333333333,
              "#9c179e"
             ],
             [
              0.4444444444444444,
              "#bd3786"
             ],
             [
              0.5555555555555556,
              "#d8576b"
             ],
             [
              0.6666666666666666,
              "#ed7953"
             ],
             [
              0.7777777777777778,
              "#fb9f3a"
             ],
             [
              0.8888888888888888,
              "#fdca26"
             ],
             [
              1,
              "#f0f921"
             ]
            ],
            "type": "surface"
           }
          ],
          "table": [
           {
            "cells": {
             "fill": {
              "color": "#EBF0F8"
             },
             "line": {
              "color": "white"
             }
            },
            "header": {
             "fill": {
              "color": "#C8D4E3"
             },
             "line": {
              "color": "white"
             }
            },
            "type": "table"
           }
          ]
         },
         "layout": {
          "annotationdefaults": {
           "arrowcolor": "#2a3f5f",
           "arrowhead": 0,
           "arrowwidth": 1
          },
          "autotypenumbers": "strict",
          "coloraxis": {
           "colorbar": {
            "outlinewidth": 0,
            "ticks": ""
           }
          },
          "colorscale": {
           "diverging": [
            [
             0,
             "#8e0152"
            ],
            [
             0.1,
             "#c51b7d"
            ],
            [
             0.2,
             "#de77ae"
            ],
            [
             0.3,
             "#f1b6da"
            ],
            [
             0.4,
             "#fde0ef"
            ],
            [
             0.5,
             "#f7f7f7"
            ],
            [
             0.6,
             "#e6f5d0"
            ],
            [
             0.7,
             "#b8e186"
            ],
            [
             0.8,
             "#7fbc41"
            ],
            [
             0.9,
             "#4d9221"
            ],
            [
             1,
             "#276419"
            ]
           ],
           "sequential": [
            [
             0,
             "#0d0887"
            ],
            [
             0.1111111111111111,
             "#46039f"
            ],
            [
             0.2222222222222222,
             "#7201a8"
            ],
            [
             0.3333333333333333,
             "#9c179e"
            ],
            [
             0.4444444444444444,
             "#bd3786"
            ],
            [
             0.5555555555555556,
             "#d8576b"
            ],
            [
             0.6666666666666666,
             "#ed7953"
            ],
            [
             0.7777777777777778,
             "#fb9f3a"
            ],
            [
             0.8888888888888888,
             "#fdca26"
            ],
            [
             1,
             "#f0f921"
            ]
           ],
           "sequentialminus": [
            [
             0,
             "#0d0887"
            ],
            [
             0.1111111111111111,
             "#46039f"
            ],
            [
             0.2222222222222222,
             "#7201a8"
            ],
            [
             0.3333333333333333,
             "#9c179e"
            ],
            [
             0.4444444444444444,
             "#bd3786"
            ],
            [
             0.5555555555555556,
             "#d8576b"
            ],
            [
             0.6666666666666666,
             "#ed7953"
            ],
            [
             0.7777777777777778,
             "#fb9f3a"
            ],
            [
             0.8888888888888888,
             "#fdca26"
            ],
            [
             1,
             "#f0f921"
            ]
           ]
          },
          "colorway": [
           "#636efa",
           "#EF553B",
           "#00cc96",
           "#ab63fa",
           "#FFA15A",
           "#19d3f3",
           "#FF6692",
           "#B6E880",
           "#FF97FF",
           "#FECB52"
          ],
          "font": {
           "color": "#2a3f5f"
          },
          "geo": {
           "bgcolor": "white",
           "lakecolor": "white",
           "landcolor": "#E5ECF6",
           "showlakes": true,
           "showland": true,
           "subunitcolor": "white"
          },
          "hoverlabel": {
           "align": "left"
          },
          "hovermode": "closest",
          "mapbox": {
           "style": "light"
          },
          "paper_bgcolor": "white",
          "plot_bgcolor": "#E5ECF6",
          "polar": {
           "angularaxis": {
            "gridcolor": "white",
            "linecolor": "white",
            "ticks": ""
           },
           "bgcolor": "#E5ECF6",
           "radialaxis": {
            "gridcolor": "white",
            "linecolor": "white",
            "ticks": ""
           }
          },
          "scene": {
           "xaxis": {
            "backgroundcolor": "#E5ECF6",
            "gridcolor": "white",
            "gridwidth": 2,
            "linecolor": "white",
            "showbackground": true,
            "ticks": "",
            "zerolinecolor": "white"
           },
           "yaxis": {
            "backgroundcolor": "#E5ECF6",
            "gridcolor": "white",
            "gridwidth": 2,
            "linecolor": "white",
            "showbackground": true,
            "ticks": "",
            "zerolinecolor": "white"
           },
           "zaxis": {
            "backgroundcolor": "#E5ECF6",
            "gridcolor": "white",
            "gridwidth": 2,
            "linecolor": "white",
            "showbackground": true,
            "ticks": "",
            "zerolinecolor": "white"
           }
          },
          "shapedefaults": {
           "line": {
            "color": "#2a3f5f"
           }
          },
          "ternary": {
           "aaxis": {
            "gridcolor": "white",
            "linecolor": "white",
            "ticks": ""
           },
           "baxis": {
            "gridcolor": "white",
            "linecolor": "white",
            "ticks": ""
           },
           "bgcolor": "#E5ECF6",
           "caxis": {
            "gridcolor": "white",
            "linecolor": "white",
            "ticks": ""
           }
          },
          "title": {
           "x": 0.05
          },
          "xaxis": {
           "automargin": true,
           "gridcolor": "white",
           "linecolor": "white",
           "ticks": "",
           "title": {
            "standoff": 15
           },
           "zerolinecolor": "white",
           "zerolinewidth": 2
          },
          "yaxis": {
           "automargin": true,
           "gridcolor": "white",
           "linecolor": "white",
           "ticks": "",
           "title": {
            "standoff": 15
           },
           "zerolinecolor": "white",
           "zerolinewidth": 2
          }
         }
        },
        "title": {
         "text": "Série Temporal com Variação Percentual"
        },
        "xaxis": {
         "title": {
          "text": "Mês e ano referência"
         }
        },
        "yaxis": {
         "title": {
          "text": "Valor"
         }
        }
       }
      },
      "text/html": [
       "<div>                            <div id=\"f2807fad-6593-48b8-915a-aa294d9f0fcb\" class=\"plotly-graph-div\" style=\"height:525px; width:100%;\"></div>            <script type=\"text/javascript\">                require([\"plotly\"], function(Plotly) {                    window.PLOTLYENV=window.PLOTLYENV || {};                                    if (document.getElementById(\"f2807fad-6593-48b8-915a-aa294d9f0fcb\")) {                    Plotly.newPlot(                        \"f2807fad-6593-48b8-915a-aa294d9f0fcb\",                        [{\"hoverinfo\":\"text\",\"hovertext\":[\"Data: agosto de 2023 \\u003cbr\\u003eValor: 111020.00\\u003cbr\\u003eVariação: N\\u002fA\",\"Data: setembro de 2023 \\u003cbr\\u003eValor: 110409.00\\u003cbr\\u003eVariação: -0.55%\",\"Data: outubro de 2023 \\u003cbr\\u003eValor: 114273.00\\u003cbr\\u003eVariação: 3.50%\",\"Data: novembro de 2023 \\u003cbr\\u003eValor: 115040.00\\u003cbr\\u003eVariação: 0.67%\",\"Data: dezembro de 2023 \\u003cbr\\u003eValor: 117174.00\\u003cbr\\u003eVariação: 1.86%\",\"Data: janeiro de 2024 \\u003cbr\\u003eValor: 116726.00\\u003cbr\\u003eVariação: -0.38%\",\"Data: fevereiro de 2024 \\u003cbr\\u003eValor: 112640.00\\u003cbr\\u003eVariação: -3.50%\",\"Data: março de 2024 \\u003cbr\\u003eValor: 112527.00\\u003cbr\\u003eVariação: -0.10%\",\"Data: abril de 2024 \\u003cbr\\u003eValor: 111201.00\\u003cbr\\u003eVariação: -1.18%\",\"Data: maio de 2024 \\u003cbr\\u003eValor: 111592.00\\u003cbr\\u003eVariação: 0.35%\",\"Data: junho de 2024 \\u003cbr\\u003eValor: 111964.00\\u003cbr\\u003eVariação: 0.33%\",\"Data: julho de 2024 \\u003cbr\\u003eValor: 109843.00\\u003cbr\\u003eVariação: -1.89%\",\"Data: agosto de 2024 \\u003cbr\\u003eValor: 108549.00\\u003cbr\\u003eVariação: -1.18%\",\"Data: setembro de 2024 \\u003cbr\\u003eValor: 108626.00\\u003cbr\\u003eVariação: 0.07%\",\"Data: outubro de 2024 \\u003cbr\\u003eValor: 107895.00\\u003cbr\\u003eVariação: -0.67%\",\"Data: novembro de 2024 \\u003cbr\\u003eValor: 108672.00\\u003cbr\\u003eVariação: 0.72%\",\"Data: dezembro de 2024 \\u003cbr\\u003eValor: 108625.00\\u003cbr\\u003eVariação: -0.04%\",\"Data: janeiro de 2025 \\u003cbr\\u003eValor: 107990.00\\u003cbr\\u003eVariação: -0.58%\",\"Data: fevereiro de 2025 \\u003cbr\\u003eValor: 109377.00\\u003cbr\\u003eVariação: 1.28%\",\"Data: março de 2025 \\u003cbr\\u003eValor: 107843.00\\u003cbr\\u003eVariação: -1.40%\",\"Data: abril de 2025 \\u003cbr\\u003eValor: 109246.00\\u003cbr\\u003eVariação: 1.30%\"],\"marker\":{\"color\":\"blue\"},\"mode\":\"lines+markers\",\"x\":[\"agosto de 2023 \",\"setembro de 2023 \",\"outubro de 2023 \",\"novembro de 2023 \",\"dezembro de 2023 \",\"janeiro de 2024 \",\"fevereiro de 2024 \",\"março de 2024 \",\"abril de 2024 \",\"maio de 2024 \",\"junho de 2024 \",\"julho de 2024 \",\"agosto de 2024 \",\"setembro de 2024 \",\"outubro de 2024 \",\"novembro de 2024 \",\"dezembro de 2024 \",\"janeiro de 2025 \",\"fevereiro de 2025 \",\"março de 2025 \",\"abril de 2025 \"],\"y\":[111020.0,110409.0,114273.0,115040.0,117174.0,116726.0,112640.0,112527.0,111201.0,111592.0,111964.0,109843.0,108549.0,108626.0,107895.0,108672.0,108625.0,107990.0,109377.0,107843.0,109246.0],\"type\":\"scatter\"}],                        {\"template\":{\"data\":{\"histogram2dcontour\":[{\"type\":\"histogram2dcontour\",\"colorbar\":{\"outlinewidth\":0,\"ticks\":\"\"},\"colorscale\":[[0.0,\"#0d0887\"],[0.1111111111111111,\"#46039f\"],[0.2222222222222222,\"#7201a8\"],[0.3333333333333333,\"#9c179e\"],[0.4444444444444444,\"#bd3786\"],[0.5555555555555556,\"#d8576b\"],[0.6666666666666666,\"#ed7953\"],[0.7777777777777778,\"#fb9f3a\"],[0.8888888888888888,\"#fdca26\"],[1.0,\"#f0f921\"]]}],\"choropleth\":[{\"type\":\"choropleth\",\"colorbar\":{\"outlinewidth\":0,\"ticks\":\"\"}}],\"histogram2d\":[{\"type\":\"histogram2d\",\"colorbar\":{\"outlinewidth\":0,\"ticks\":\"\"},\"colorscale\":[[0.0,\"#0d0887\"],[0.1111111111111111,\"#46039f\"],[0.2222222222222222,\"#7201a8\"],[0.3333333333333333,\"#9c179e\"],[0.4444444444444444,\"#bd3786\"],[0.5555555555555556,\"#d8576b\"],[0.6666666666666666,\"#ed7953\"],[0.7777777777777778,\"#fb9f3a\"],[0.8888888888888888,\"#fdca26\"],[1.0,\"#f0f921\"]]}],\"heatmap\":[{\"type\":\"heatmap\",\"colorbar\":{\"outlinewidth\":0,\"ticks\":\"\"},\"colorscale\":[[0.0,\"#0d0887\"],[0.1111111111111111,\"#46039f\"],[0.2222222222222222,\"#7201a8\"],[0.3333333333333333,\"#9c179e\"],[0.4444444444444444,\"#bd3786\"],[0.5555555555555556,\"#d8576b\"],[0.6666666666666666,\"#ed7953\"],[0.7777777777777778,\"#fb9f3a\"],[0.8888888888888888,\"#fdca26\"],[1.0,\"#f0f921\"]]}],\"heatmapgl\":[{\"type\":\"heatmapgl\",\"colorbar\":{\"outlinewidth\":0,\"ticks\":\"\"},\"colorscale\":[[0.0,\"#0d0887\"],[0.1111111111111111,\"#46039f\"],[0.2222222222222222,\"#7201a8\"],[0.3333333333333333,\"#9c179e\"],[0.4444444444444444,\"#bd3786\"],[0.5555555555555556,\"#d8576b\"],[0.6666666666666666,\"#ed7953\"],[0.7777777777777778,\"#fb9f3a\"],[0.8888888888888888,\"#fdca26\"],[1.0,\"#f0f921\"]]}],\"contourcarpet\":[{\"type\":\"contourcarpet\",\"colorbar\":{\"outlinewidth\":0,\"ticks\":\"\"}}],\"contour\":[{\"type\":\"contour\",\"colorbar\":{\"outlinewidth\":0,\"ticks\":\"\"},\"colorscale\":[[0.0,\"#0d0887\"],[0.1111111111111111,\"#46039f\"],[0.2222222222222222,\"#7201a8\"],[0.3333333333333333,\"#9c179e\"],[0.4444444444444444,\"#bd3786\"],[0.5555555555555556,\"#d8576b\"],[0.6666666666666666,\"#ed7953\"],[0.7777777777777778,\"#fb9f3a\"],[0.8888888888888888,\"#fdca26\"],[1.0,\"#f0f921\"]]}],\"surface\":[{\"type\":\"surface\",\"colorbar\":{\"outlinewidth\":0,\"ticks\":\"\"},\"colorscale\":[[0.0,\"#0d0887\"],[0.1111111111111111,\"#46039f\"],[0.2222222222222222,\"#7201a8\"],[0.3333333333333333,\"#9c179e\"],[0.4444444444444444,\"#bd3786\"],[0.5555555555555556,\"#d8576b\"],[0.6666666666666666,\"#ed7953\"],[0.7777777777777778,\"#fb9f3a\"],[0.8888888888888888,\"#fdca26\"],[1.0,\"#f0f921\"]]}],\"mesh3d\":[{\"type\":\"mesh3d\",\"colorbar\":{\"outlinewidth\":0,\"ticks\":\"\"}}],\"scatter\":[{\"fillpattern\":{\"fillmode\":\"overlay\",\"size\":10,\"solidity\":0.2},\"type\":\"scatter\"}],\"parcoords\":[{\"type\":\"parcoords\",\"line\":{\"colorbar\":{\"outlinewidth\":0,\"ticks\":\"\"}}}],\"scatterpolargl\":[{\"type\":\"scatterpolargl\",\"marker\":{\"colorbar\":{\"outlinewidth\":0,\"ticks\":\"\"}}}],\"bar\":[{\"error_x\":{\"color\":\"#2a3f5f\"},\"error_y\":{\"color\":\"#2a3f5f\"},\"marker\":{\"line\":{\"color\":\"#E5ECF6\",\"width\":0.5},\"pattern\":{\"fillmode\":\"overlay\",\"size\":10,\"solidity\":0.2}},\"type\":\"bar\"}],\"scattergeo\":[{\"type\":\"scattergeo\",\"marker\":{\"colorbar\":{\"outlinewidth\":0,\"ticks\":\"\"}}}],\"scatterpolar\":[{\"type\":\"scatterpolar\",\"marker\":{\"colorbar\":{\"outlinewidth\":0,\"ticks\":\"\"}}}],\"histogram\":[{\"marker\":{\"pattern\":{\"fillmode\":\"overlay\",\"size\":10,\"solidity\":0.2}},\"type\":\"histogram\"}],\"scattergl\":[{\"type\":\"scattergl\",\"marker\":{\"colorbar\":{\"outlinewidth\":0,\"ticks\":\"\"}}}],\"scatter3d\":[{\"type\":\"scatter3d\",\"line\":{\"colorbar\":{\"outlinewidth\":0,\"ticks\":\"\"}},\"marker\":{\"colorbar\":{\"outlinewidth\":0,\"ticks\":\"\"}}}],\"scattermapbox\":[{\"type\":\"scattermapbox\",\"marker\":{\"colorbar\":{\"outlinewidth\":0,\"ticks\":\"\"}}}],\"scatterternary\":[{\"type\":\"scatterternary\",\"marker\":{\"colorbar\":{\"outlinewidth\":0,\"ticks\":\"\"}}}],\"scattercarpet\":[{\"type\":\"scattercarpet\",\"marker\":{\"colorbar\":{\"outlinewidth\":0,\"ticks\":\"\"}}}],\"carpet\":[{\"aaxis\":{\"endlinecolor\":\"#2a3f5f\",\"gridcolor\":\"white\",\"linecolor\":\"white\",\"minorgridcolor\":\"white\",\"startlinecolor\":\"#2a3f5f\"},\"baxis\":{\"endlinecolor\":\"#2a3f5f\",\"gridcolor\":\"white\",\"linecolor\":\"white\",\"minorgridcolor\":\"white\",\"startlinecolor\":\"#2a3f5f\"},\"type\":\"carpet\"}],\"table\":[{\"cells\":{\"fill\":{\"color\":\"#EBF0F8\"},\"line\":{\"color\":\"white\"}},\"header\":{\"fill\":{\"color\":\"#C8D4E3\"},\"line\":{\"color\":\"white\"}},\"type\":\"table\"}],\"barpolar\":[{\"marker\":{\"line\":{\"color\":\"#E5ECF6\",\"width\":0.5},\"pattern\":{\"fillmode\":\"overlay\",\"size\":10,\"solidity\":0.2}},\"type\":\"barpolar\"}],\"pie\":[{\"automargin\":true,\"type\":\"pie\"}]},\"layout\":{\"autotypenumbers\":\"strict\",\"colorway\":[\"#636efa\",\"#EF553B\",\"#00cc96\",\"#ab63fa\",\"#FFA15A\",\"#19d3f3\",\"#FF6692\",\"#B6E880\",\"#FF97FF\",\"#FECB52\"],\"font\":{\"color\":\"#2a3f5f\"},\"hovermode\":\"closest\",\"hoverlabel\":{\"align\":\"left\"},\"paper_bgcolor\":\"white\",\"plot_bgcolor\":\"#E5ECF6\",\"polar\":{\"bgcolor\":\"#E5ECF6\",\"angularaxis\":{\"gridcolor\":\"white\",\"linecolor\":\"white\",\"ticks\":\"\"},\"radialaxis\":{\"gridcolor\":\"white\",\"linecolor\":\"white\",\"ticks\":\"\"}},\"ternary\":{\"bgcolor\":\"#E5ECF6\",\"aaxis\":{\"gridcolor\":\"white\",\"linecolor\":\"white\",\"ticks\":\"\"},\"baxis\":{\"gridcolor\":\"white\",\"linecolor\":\"white\",\"ticks\":\"\"},\"caxis\":{\"gridcolor\":\"white\",\"linecolor\":\"white\",\"ticks\":\"\"}},\"coloraxis\":{\"colorbar\":{\"outlinewidth\":0,\"ticks\":\"\"}},\"colorscale\":{\"sequential\":[[0.0,\"#0d0887\"],[0.1111111111111111,\"#46039f\"],[0.2222222222222222,\"#7201a8\"],[0.3333333333333333,\"#9c179e\"],[0.4444444444444444,\"#bd3786\"],[0.5555555555555556,\"#d8576b\"],[0.6666666666666666,\"#ed7953\"],[0.7777777777777778,\"#fb9f3a\"],[0.8888888888888888,\"#fdca26\"],[1.0,\"#f0f921\"]],\"sequentialminus\":[[0.0,\"#0d0887\"],[0.1111111111111111,\"#46039f\"],[0.2222222222222222,\"#7201a8\"],[0.3333333333333333,\"#9c179e\"],[0.4444444444444444,\"#bd3786\"],[0.5555555555555556,\"#d8576b\"],[0.6666666666666666,\"#ed7953\"],[0.7777777777777778,\"#fb9f3a\"],[0.8888888888888888,\"#fdca26\"],[1.0,\"#f0f921\"]],\"diverging\":[[0,\"#8e0152\"],[0.1,\"#c51b7d\"],[0.2,\"#de77ae\"],[0.3,\"#f1b6da\"],[0.4,\"#fde0ef\"],[0.5,\"#f7f7f7\"],[0.6,\"#e6f5d0\"],[0.7,\"#b8e186\"],[0.8,\"#7fbc41\"],[0.9,\"#4d9221\"],[1,\"#276419\"]]},\"xaxis\":{\"gridcolor\":\"white\",\"linecolor\":\"white\",\"ticks\":\"\",\"title\":{\"standoff\":15},\"zerolinecolor\":\"white\",\"automargin\":true,\"zerolinewidth\":2},\"yaxis\":{\"gridcolor\":\"white\",\"linecolor\":\"white\",\"ticks\":\"\",\"title\":{\"standoff\":15},\"zerolinecolor\":\"white\",\"automargin\":true,\"zerolinewidth\":2},\"scene\":{\"xaxis\":{\"backgroundcolor\":\"#E5ECF6\",\"gridcolor\":\"white\",\"linecolor\":\"white\",\"showbackground\":true,\"ticks\":\"\",\"zerolinecolor\":\"white\",\"gridwidth\":2},\"yaxis\":{\"backgroundcolor\":\"#E5ECF6\",\"gridcolor\":\"white\",\"linecolor\":\"white\",\"showbackground\":true,\"ticks\":\"\",\"zerolinecolor\":\"white\",\"gridwidth\":2},\"zaxis\":{\"backgroundcolor\":\"#E5ECF6\",\"gridcolor\":\"white\",\"linecolor\":\"white\",\"showbackground\":true,\"ticks\":\"\",\"zerolinecolor\":\"white\",\"gridwidth\":2}},\"shapedefaults\":{\"line\":{\"color\":\"#2a3f5f\"}},\"annotationdefaults\":{\"arrowcolor\":\"#2a3f5f\",\"arrowhead\":0,\"arrowwidth\":1},\"geo\":{\"bgcolor\":\"white\",\"landcolor\":\"#E5ECF6\",\"subunitcolor\":\"white\",\"showland\":true,\"showlakes\":true,\"lakecolor\":\"white\"},\"title\":{\"x\":0.05},\"mapbox\":{\"style\":\"light\"}}},\"title\":{\"text\":\"Série Temporal com Variação Percentual\"},\"xaxis\":{\"title\":{\"text\":\"Mês e ano referência\"}},\"yaxis\":{\"title\":{\"text\":\"Valor\"}},\"hovermode\":\"x unified\"},                        {\"responsive\": true}                    ).then(function(){\n",
       "                            \n",
       "var gd = document.getElementById('f2807fad-6593-48b8-915a-aa294d9f0fcb');\n",
       "var x = new MutationObserver(function (mutations, observer) {{\n",
       "        var display = window.getComputedStyle(gd).display;\n",
       "        if (!display || display === 'none') {{\n",
       "            console.log([gd, 'removed!']);\n",
       "            Plotly.purge(gd);\n",
       "            observer.disconnect();\n",
       "        }}\n",
       "}});\n",
       "\n",
       "// Listen for the removal of the full notebook cells\n",
       "var notebookContainer = gd.closest('#notebook-container');\n",
       "if (notebookContainer) {{\n",
       "    x.observe(notebookContainer, {childList: true});\n",
       "}}\n",
       "\n",
       "// Listen for the clearing of the current output cell\n",
       "var outputEl = gd.closest('.output');\n",
       "if (outputEl) {{\n",
       "    x.observe(outputEl, {childList: true});\n",
       "}}\n",
       "\n",
       "                        })                };                });            </script>        </div>"
      ]
     },
     "metadata": {},
     "output_type": "display_data"
    }
   ],
   "source": [
    "# Plot interativo\n",
    "fig = go.Figure()\n",
    "\n",
    "fig.add_trace(go.Scatter(\n",
    "    x=df['MesReferencia'],\n",
    "    y=df['Valor'],\n",
    "    mode='lines+markers',\n",
    "    marker=dict(color='blue'),\n",
    "    hovertext=df['Hover'],\n",
    "    hoverinfo='text'\n",
    "))\n",
    "\n",
    "fig.update_layout(\n",
    "    title='Série Temporal com Variação Percentual',\n",
    "    xaxis_title='Mês e ano referência',\n",
    "    yaxis_title='Valor',\n",
    "    hovermode='x unified'\n",
    ")\n",
    "\n",
    "fig.show()"
   ]
  },
  {
   "cell_type": "code",
   "execution_count": 3,
   "metadata": {},
   "outputs": [
    {
     "name": "stdout",
     "output_type": "stream",
     "text": [
      "response status code: 200\n",
      "File created!\n"
     ]
    },
    {
     "name": "stderr",
     "output_type": "stream",
     "text": [
      "/home/estaciolima/meu-proximo-carro/fipe_api.py:86: FutureWarning: Passing literal json to 'read_json' is deprecated and will be removed in a future version. To read from a literal string, wrap it in a 'StringIO' object.\n",
      "  df = pd.read_json(lista_de_codigos.text)\n"
     ]
    }
   ],
   "source": [
    "import fipe_api\n",
    "\n",
    "lista_de_veiculos_fiat = fipe_api.guardar_codigo_marcas('21')"
   ]
  },
  {
   "cell_type": "code",
   "execution_count": 2,
   "metadata": {},
   "outputs": [
    {
     "data": {
      "text/plain": [
       "<Response [200]>"
      ]
     },
     "execution_count": 2,
     "metadata": {},
     "output_type": "execute_result"
    }
   ],
   "source": [
    "lista_de_veiculos_fiat"
   ]
  }
 ],
 "metadata": {
  "kernelspec": {
   "display_name": "Python 3",
   "language": "python",
   "name": "python3"
  },
  "language_info": {
   "codemirror_mode": {
    "name": "ipython",
    "version": 3
   },
   "file_extension": ".py",
   "mimetype": "text/x-python",
   "name": "python",
   "nbconvert_exporter": "python",
   "pygments_lexer": "ipython3",
   "version": "3.10.12"
  }
 },
 "nbformat": 4,
 "nbformat_minor": 2
}
