{
 "cells": [
  {
   "cell_type": "markdown",
   "metadata": {},
   "source": [
    "# EXPLORATORY DATA ANALYSIS"
   ]
  },
  {
   "cell_type": "code",
   "execution_count": 34,
   "metadata": {},
   "outputs": [
    {
     "name": "stdout",
     "output_type": "stream",
     "text": [
      "The autoreload extension is already loaded. To reload it, use:\n",
      "  %reload_ext autoreload\n"
     ]
    }
   ],
   "source": [
    "%load_ext autoreload\n",
    "%autoreload 2\n",
    "import pandas as pd\n",
    "import numpy as np\n",
    "from helpers import data_preparation\n",
    "from scipy import stats"
   ]
  },
  {
   "cell_type": "code",
   "execution_count": 2,
   "metadata": {},
   "outputs": [],
   "source": [
    "df = pd.read_csv('datasets/database-1701392111.8423762.csv')"
   ]
  },
  {
   "cell_type": "code",
   "execution_count": 3,
   "metadata": {},
   "outputs": [
    {
     "data": {
      "text/html": [
       "<div>\n",
       "<style scoped>\n",
       "    .dataframe tbody tr th:only-of-type {\n",
       "        vertical-align: middle;\n",
       "    }\n",
       "\n",
       "    .dataframe tbody tr th {\n",
       "        vertical-align: top;\n",
       "    }\n",
       "\n",
       "    .dataframe thead th {\n",
       "        text-align: right;\n",
       "    }\n",
       "</style>\n",
       "<table border=\"1\" class=\"dataframe\">\n",
       "  <thead>\n",
       "    <tr style=\"text-align: right;\">\n",
       "      <th></th>\n",
       "      <th>Unnamed: 0</th>\n",
       "      <th>URL</th>\n",
       "      <th>Fabricante</th>\n",
       "      <th>Modelo</th>\n",
       "      <th>Versao</th>\n",
       "      <th>Valor</th>\n",
       "      <th>Cidade</th>\n",
       "      <th>Ano</th>\n",
       "      <th>Combustível</th>\n",
       "      <th>Placa final</th>\n",
       "      <th>...</th>\n",
       "      <th>Lanternas traseiras de led</th>\n",
       "      <th>Sensor crepuscular</th>\n",
       "      <th>Banco do passageiro com ajuste elétrico</th>\n",
       "      <th>Veículo alienado</th>\n",
       "      <th>Bancos dianteiros com aquecimento</th>\n",
       "      <th>Pneus de uso off-road</th>\n",
       "      <th>Park assist paralelo</th>\n",
       "      <th>Calha de chuva</th>\n",
       "      <th>Freio a disco dianteiro</th>\n",
       "      <th>Ar quente (ar-condicionado)</th>\n",
       "    </tr>\n",
       "  </thead>\n",
       "  <tbody>\n",
       "    <tr>\n",
       "      <th>0</th>\n",
       "      <td>0</td>\n",
       "      <td>https://www.mobiauto.com.br/comprar/carros/ba-...</td>\n",
       "      <td>Toyota</td>\n",
       "      <td>Hilux SW4</td>\n",
       "      <td>SRV 4x4 3.0 Turbo  (aut)2</td>\n",
       "      <td>R$ 79.900</td>\n",
       "      <td>Lauro de Freitas - BA</td>\n",
       "      <td>2009/2009</td>\n",
       "      <td>Diesel</td>\n",
       "      <td>2.0</td>\n",
       "      <td>...</td>\n",
       "      <td>NaN</td>\n",
       "      <td>NaN</td>\n",
       "      <td>NaN</td>\n",
       "      <td>NaN</td>\n",
       "      <td>NaN</td>\n",
       "      <td>NaN</td>\n",
       "      <td>NaN</td>\n",
       "      <td>NaN</td>\n",
       "      <td>NaN</td>\n",
       "      <td>NaN</td>\n",
       "    </tr>\n",
       "    <tr>\n",
       "      <th>1</th>\n",
       "      <td>1</td>\n",
       "      <td>https://www.mobiauto.com.br/comprar/carros/ba-...</td>\n",
       "      <td>Volkswagen</td>\n",
       "      <td>T-Cross</td>\n",
       "      <td>1.0 200 TSI Comfortline (Aut) (Flex)</td>\n",
       "      <td>R$ 110.900</td>\n",
       "      <td>Salvador - BA</td>\n",
       "      <td>2021/2022</td>\n",
       "      <td>Flex</td>\n",
       "      <td>1.0</td>\n",
       "      <td>...</td>\n",
       "      <td>NaN</td>\n",
       "      <td>NaN</td>\n",
       "      <td>NaN</td>\n",
       "      <td>NaN</td>\n",
       "      <td>NaN</td>\n",
       "      <td>NaN</td>\n",
       "      <td>NaN</td>\n",
       "      <td>NaN</td>\n",
       "      <td>NaN</td>\n",
       "      <td>NaN</td>\n",
       "    </tr>\n",
       "    <tr>\n",
       "      <th>2</th>\n",
       "      <td>2</td>\n",
       "      <td>https://www.mobiauto.com.br/comprar/carros/ba-...</td>\n",
       "      <td>Volkswagen</td>\n",
       "      <td>T-Cross</td>\n",
       "      <td>1.0 200 TSI Comfortline (Aut) (Flex)</td>\n",
       "      <td>R$ 107.000</td>\n",
       "      <td>Salvador - BA</td>\n",
       "      <td>2021/2022</td>\n",
       "      <td>Flex</td>\n",
       "      <td>1.0</td>\n",
       "      <td>...</td>\n",
       "      <td>NaN</td>\n",
       "      <td>NaN</td>\n",
       "      <td>NaN</td>\n",
       "      <td>NaN</td>\n",
       "      <td>NaN</td>\n",
       "      <td>NaN</td>\n",
       "      <td>NaN</td>\n",
       "      <td>NaN</td>\n",
       "      <td>NaN</td>\n",
       "      <td>NaN</td>\n",
       "    </tr>\n",
       "    <tr>\n",
       "      <th>3</th>\n",
       "      <td>3</td>\n",
       "      <td>https://www.mobiauto.com.br/comprar/carros/ba-...</td>\n",
       "      <td>Volkswagen</td>\n",
       "      <td>Taos</td>\n",
       "      <td>Highline 1.4 TSI (Aut) (Flex)</td>\n",
       "      <td>R$ 164.900</td>\n",
       "      <td>Salvador - BA</td>\n",
       "      <td>2021/2022</td>\n",
       "      <td>Flex</td>\n",
       "      <td>6.0</td>\n",
       "      <td>...</td>\n",
       "      <td>NaN</td>\n",
       "      <td>NaN</td>\n",
       "      <td>NaN</td>\n",
       "      <td>NaN</td>\n",
       "      <td>NaN</td>\n",
       "      <td>NaN</td>\n",
       "      <td>NaN</td>\n",
       "      <td>NaN</td>\n",
       "      <td>NaN</td>\n",
       "      <td>NaN</td>\n",
       "    </tr>\n",
       "    <tr>\n",
       "      <th>4</th>\n",
       "      <td>4</td>\n",
       "      <td>https://www.mobiauto.com.br/comprar/carros/ba-...</td>\n",
       "      <td>Volkswagen</td>\n",
       "      <td>T-Cross</td>\n",
       "      <td>1.0 200 TSI Comfortline (Aut) (Flex)</td>\n",
       "      <td>R$ 112.900</td>\n",
       "      <td>Salvador - BA</td>\n",
       "      <td>2021/2022</td>\n",
       "      <td>Flex</td>\n",
       "      <td>3.0</td>\n",
       "      <td>...</td>\n",
       "      <td>NaN</td>\n",
       "      <td>NaN</td>\n",
       "      <td>NaN</td>\n",
       "      <td>NaN</td>\n",
       "      <td>NaN</td>\n",
       "      <td>NaN</td>\n",
       "      <td>NaN</td>\n",
       "      <td>NaN</td>\n",
       "      <td>NaN</td>\n",
       "      <td>NaN</td>\n",
       "    </tr>\n",
       "  </tbody>\n",
       "</table>\n",
       "<p>5 rows × 200 columns</p>\n",
       "</div>"
      ],
      "text/plain": [
       "   Unnamed: 0                                                URL  Fabricante  \\\n",
       "0           0  https://www.mobiauto.com.br/comprar/carros/ba-...      Toyota   \n",
       "1           1  https://www.mobiauto.com.br/comprar/carros/ba-...  Volkswagen   \n",
       "2           2  https://www.mobiauto.com.br/comprar/carros/ba-...  Volkswagen   \n",
       "3           3  https://www.mobiauto.com.br/comprar/carros/ba-...  Volkswagen   \n",
       "4           4  https://www.mobiauto.com.br/comprar/carros/ba-...  Volkswagen   \n",
       "\n",
       "      Modelo                                Versao       Valor  \\\n",
       "0  Hilux SW4             SRV 4x4 3.0 Turbo  (aut)2   R$ 79.900   \n",
       "1    T-Cross  1.0 200 TSI Comfortline (Aut) (Flex)  R$ 110.900   \n",
       "2    T-Cross  1.0 200 TSI Comfortline (Aut) (Flex)  R$ 107.000   \n",
       "3       Taos         Highline 1.4 TSI (Aut) (Flex)  R$ 164.900   \n",
       "4    T-Cross  1.0 200 TSI Comfortline (Aut) (Flex)  R$ 112.900   \n",
       "\n",
       "                  Cidade        Ano Combustível  Placa final  ...  \\\n",
       "0  Lauro de Freitas - BA  2009/2009      Diesel          2.0  ...   \n",
       "1          Salvador - BA  2021/2022        Flex          1.0  ...   \n",
       "2          Salvador - BA  2021/2022        Flex          1.0  ...   \n",
       "3          Salvador - BA  2021/2022        Flex          6.0  ...   \n",
       "4          Salvador - BA  2021/2022        Flex          3.0  ...   \n",
       "\n",
       "  Lanternas traseiras de led Sensor crepuscular  \\\n",
       "0                        NaN                NaN   \n",
       "1                        NaN                NaN   \n",
       "2                        NaN                NaN   \n",
       "3                        NaN                NaN   \n",
       "4                        NaN                NaN   \n",
       "\n",
       "  Banco do passageiro com ajuste elétrico Veículo alienado  \\\n",
       "0                                     NaN              NaN   \n",
       "1                                     NaN              NaN   \n",
       "2                                     NaN              NaN   \n",
       "3                                     NaN              NaN   \n",
       "4                                     NaN              NaN   \n",
       "\n",
       "  Bancos dianteiros com aquecimento Pneus de uso off-road  \\\n",
       "0                               NaN                   NaN   \n",
       "1                               NaN                   NaN   \n",
       "2                               NaN                   NaN   \n",
       "3                               NaN                   NaN   \n",
       "4                               NaN                   NaN   \n",
       "\n",
       "  Park assist paralelo Calha de chuva Freio a disco dianteiro  \\\n",
       "0                  NaN            NaN                     NaN   \n",
       "1                  NaN            NaN                     NaN   \n",
       "2                  NaN            NaN                     NaN   \n",
       "3                  NaN            NaN                     NaN   \n",
       "4                  NaN            NaN                     NaN   \n",
       "\n",
       "  Ar quente (ar-condicionado)  \n",
       "0                         NaN  \n",
       "1                         NaN  \n",
       "2                         NaN  \n",
       "3                         NaN  \n",
       "4                         NaN  \n",
       "\n",
       "[5 rows x 200 columns]"
      ]
     },
     "execution_count": 3,
     "metadata": {},
     "output_type": "execute_result"
    }
   ],
   "source": [
    "df.head()"
   ]
  },
  {
   "cell_type": "code",
   "execution_count": 53,
   "metadata": {},
   "outputs": [],
   "source": [
    "df2 = data_preparation(df)"
   ]
  },
  {
   "cell_type": "code",
   "execution_count": 54,
   "metadata": {},
   "outputs": [
    {
     "data": {
      "text/html": [
       "<div>\n",
       "<style scoped>\n",
       "    .dataframe tbody tr th:only-of-type {\n",
       "        vertical-align: middle;\n",
       "    }\n",
       "\n",
       "    .dataframe tbody tr th {\n",
       "        vertical-align: top;\n",
       "    }\n",
       "\n",
       "    .dataframe thead th {\n",
       "        text-align: right;\n",
       "    }\n",
       "</style>\n",
       "<table border=\"1\" class=\"dataframe\">\n",
       "  <thead>\n",
       "    <tr style=\"text-align: right;\">\n",
       "      <th></th>\n",
       "      <th>Fabricante</th>\n",
       "      <th>Modelo</th>\n",
       "      <th>Versao</th>\n",
       "      <th>Valor</th>\n",
       "      <th>Cidade</th>\n",
       "      <th>Combustível</th>\n",
       "      <th>KM</th>\n",
       "      <th>Câmbio</th>\n",
       "      <th>Cor</th>\n",
       "      <th>Carroceria</th>\n",
       "      <th>...</th>\n",
       "      <th>Banco do passageiro com ajuste elétrico</th>\n",
       "      <th>Veículo alienado</th>\n",
       "      <th>Bancos dianteiros com aquecimento</th>\n",
       "      <th>Pneus de uso off-road</th>\n",
       "      <th>Park assist paralelo</th>\n",
       "      <th>Calha de chuva</th>\n",
       "      <th>Freio a disco dianteiro</th>\n",
       "      <th>Ar quente (ar-condicionado)</th>\n",
       "      <th>Production year</th>\n",
       "      <th>Model year</th>\n",
       "    </tr>\n",
       "  </thead>\n",
       "  <tbody>\n",
       "    <tr>\n",
       "      <th>0</th>\n",
       "      <td>Toyota</td>\n",
       "      <td>Hilux SW4</td>\n",
       "      <td>SRV 4x4 3.0 Turbo  (aut)2</td>\n",
       "      <td>79900</td>\n",
       "      <td>Lauro de Freitas - BA</td>\n",
       "      <td>Diesel</td>\n",
       "      <td>270000</td>\n",
       "      <td>Automática</td>\n",
       "      <td>Prata</td>\n",
       "      <td>SUV</td>\n",
       "      <td>...</td>\n",
       "      <td>Não</td>\n",
       "      <td>Não</td>\n",
       "      <td>Não</td>\n",
       "      <td>Não</td>\n",
       "      <td>Não</td>\n",
       "      <td>Não</td>\n",
       "      <td>Não</td>\n",
       "      <td>Não</td>\n",
       "      <td>2009</td>\n",
       "      <td>2009</td>\n",
       "    </tr>\n",
       "    <tr>\n",
       "      <th>1</th>\n",
       "      <td>Volkswagen</td>\n",
       "      <td>T-Cross</td>\n",
       "      <td>1.0 200 TSI Comfortline (Aut) (Flex)</td>\n",
       "      <td>110900</td>\n",
       "      <td>Salvador - BA</td>\n",
       "      <td>Flex</td>\n",
       "      <td>30016</td>\n",
       "      <td>Automática</td>\n",
       "      <td>Prata</td>\n",
       "      <td>SUV</td>\n",
       "      <td>...</td>\n",
       "      <td>Não</td>\n",
       "      <td>Não</td>\n",
       "      <td>Não</td>\n",
       "      <td>Não</td>\n",
       "      <td>Não</td>\n",
       "      <td>Não</td>\n",
       "      <td>Não</td>\n",
       "      <td>Não</td>\n",
       "      <td>2021</td>\n",
       "      <td>2022</td>\n",
       "    </tr>\n",
       "    <tr>\n",
       "      <th>2</th>\n",
       "      <td>Volkswagen</td>\n",
       "      <td>T-Cross</td>\n",
       "      <td>1.0 200 TSI Comfortline (Aut) (Flex)</td>\n",
       "      <td>107000</td>\n",
       "      <td>Salvador - BA</td>\n",
       "      <td>Flex</td>\n",
       "      <td>3617</td>\n",
       "      <td>Automática</td>\n",
       "      <td>Branco</td>\n",
       "      <td>SUV</td>\n",
       "      <td>...</td>\n",
       "      <td>Não</td>\n",
       "      <td>Não</td>\n",
       "      <td>Não</td>\n",
       "      <td>Não</td>\n",
       "      <td>Não</td>\n",
       "      <td>Não</td>\n",
       "      <td>Não</td>\n",
       "      <td>Não</td>\n",
       "      <td>2021</td>\n",
       "      <td>2022</td>\n",
       "    </tr>\n",
       "    <tr>\n",
       "      <th>3</th>\n",
       "      <td>Volkswagen</td>\n",
       "      <td>Taos</td>\n",
       "      <td>Highline 1.4 TSI (Aut) (Flex)</td>\n",
       "      <td>164900</td>\n",
       "      <td>Salvador - BA</td>\n",
       "      <td>Flex</td>\n",
       "      <td>23608</td>\n",
       "      <td>Automática</td>\n",
       "      <td>Azul</td>\n",
       "      <td>Não</td>\n",
       "      <td>...</td>\n",
       "      <td>Não</td>\n",
       "      <td>Não</td>\n",
       "      <td>Não</td>\n",
       "      <td>Não</td>\n",
       "      <td>Não</td>\n",
       "      <td>Não</td>\n",
       "      <td>Não</td>\n",
       "      <td>Não</td>\n",
       "      <td>2021</td>\n",
       "      <td>2022</td>\n",
       "    </tr>\n",
       "    <tr>\n",
       "      <th>4</th>\n",
       "      <td>Volkswagen</td>\n",
       "      <td>T-Cross</td>\n",
       "      <td>1.0 200 TSI Comfortline (Aut) (Flex)</td>\n",
       "      <td>112900</td>\n",
       "      <td>Salvador - BA</td>\n",
       "      <td>Flex</td>\n",
       "      <td>7972</td>\n",
       "      <td>Automática</td>\n",
       "      <td>Branco</td>\n",
       "      <td>SUV</td>\n",
       "      <td>...</td>\n",
       "      <td>Não</td>\n",
       "      <td>Não</td>\n",
       "      <td>Não</td>\n",
       "      <td>Não</td>\n",
       "      <td>Não</td>\n",
       "      <td>Não</td>\n",
       "      <td>Não</td>\n",
       "      <td>Não</td>\n",
       "      <td>2021</td>\n",
       "      <td>2022</td>\n",
       "    </tr>\n",
       "  </tbody>\n",
       "</table>\n",
       "<p>5 rows × 198 columns</p>\n",
       "</div>"
      ],
      "text/plain": [
       "   Fabricante     Modelo                                Versao   Valor  \\\n",
       "0      Toyota  Hilux SW4             SRV 4x4 3.0 Turbo  (aut)2   79900   \n",
       "1  Volkswagen    T-Cross  1.0 200 TSI Comfortline (Aut) (Flex)  110900   \n",
       "2  Volkswagen    T-Cross  1.0 200 TSI Comfortline (Aut) (Flex)  107000   \n",
       "3  Volkswagen       Taos         Highline 1.4 TSI (Aut) (Flex)  164900   \n",
       "4  Volkswagen    T-Cross  1.0 200 TSI Comfortline (Aut) (Flex)  112900   \n",
       "\n",
       "                  Cidade Combustível      KM      Câmbio     Cor Carroceria  \\\n",
       "0  Lauro de Freitas - BA      Diesel  270000  Automática   Prata        SUV   \n",
       "1          Salvador - BA        Flex   30016  Automática   Prata        SUV   \n",
       "2          Salvador - BA        Flex    3617  Automática  Branco        SUV   \n",
       "3          Salvador - BA        Flex   23608  Automática    Azul        Não   \n",
       "4          Salvador - BA        Flex    7972  Automática  Branco        SUV   \n",
       "\n",
       "   ... Banco do passageiro com ajuste elétrico Veículo alienado  \\\n",
       "0  ...                                     Não              Não   \n",
       "1  ...                                     Não              Não   \n",
       "2  ...                                     Não              Não   \n",
       "3  ...                                     Não              Não   \n",
       "4  ...                                     Não              Não   \n",
       "\n",
       "  Bancos dianteiros com aquecimento Pneus de uso off-road  \\\n",
       "0                               Não                   Não   \n",
       "1                               Não                   Não   \n",
       "2                               Não                   Não   \n",
       "3                               Não                   Não   \n",
       "4                               Não                   Não   \n",
       "\n",
       "  Park assist paralelo Calha de chuva Freio a disco dianteiro  \\\n",
       "0                  Não            Não                     Não   \n",
       "1                  Não            Não                     Não   \n",
       "2                  Não            Não                     Não   \n",
       "3                  Não            Não                     Não   \n",
       "4                  Não            Não                     Não   \n",
       "\n",
       "  Ar quente (ar-condicionado) Production year Model year  \n",
       "0                         Não            2009       2009  \n",
       "1                         Não            2021       2022  \n",
       "2                         Não            2021       2022  \n",
       "3                         Não            2021       2022  \n",
       "4                         Não            2021       2022  \n",
       "\n",
       "[5 rows x 198 columns]"
      ]
     },
     "execution_count": 54,
     "metadata": {},
     "output_type": "execute_result"
    }
   ],
   "source": [
    "df2.head()"
   ]
  },
  {
   "cell_type": "code",
   "execution_count": 55,
   "metadata": {},
   "outputs": [
    {
     "data": {
      "text/plain": [
       "0"
      ]
     },
     "execution_count": 55,
     "metadata": {},
     "output_type": "execute_result"
    }
   ],
   "source": [
    "df2.isnull().sum().sum()"
   ]
  },
  {
   "cell_type": "code",
   "execution_count": 67,
   "metadata": {},
   "outputs": [
    {
     "data": {
      "text/plain": [
       "['Valor', 'KM', 'Production year', 'Model year']"
      ]
     },
     "execution_count": 67,
     "metadata": {},
     "output_type": "execute_result"
    }
   ],
   "source": [
    "num_variables = df2.select_dtypes(['int64']).columns.tolist()\n",
    "num_variables"
   ]
  },
  {
   "cell_type": "code",
   "execution_count": 68,
   "metadata": {},
   "outputs": [
    {
     "data": {
      "text/plain": [
       "['Fabricante',\n",
       " 'Modelo',\n",
       " 'Versao',\n",
       " 'Cidade',\n",
       " 'Combustível',\n",
       " 'Câmbio',\n",
       " 'Cor',\n",
       " 'Carroceria',\n",
       " 'Airbag motorista',\n",
       " 'Ar-condicionado',\n",
       " 'Direção hidráulica',\n",
       " 'Vidros elétricos dianteiros',\n",
       " 'Travas elétricas',\n",
       " 'Retrovisores elétricos',\n",
       " 'Alarme',\n",
       " 'Freios abs',\n",
       " 'Bancos de couro',\n",
       " 'Airbag duplo frontal',\n",
       " 'Limpador traseiro',\n",
       " 'Desembaçador traseiro',\n",
       " 'Câmbio automático',\n",
       " 'Rodas de liga leve',\n",
       " 'Tração 4x4',\n",
       " 'Ar quente',\n",
       " 'Airbags laterais',\n",
       " 'Vidros elétricos traseiros',\n",
       " 'Banco do motorista com regulagem de altura',\n",
       " 'Ajuste elétrico dos retrovisores',\n",
       " 'Adaptado para pcd',\n",
       " 'Sensor de estacionamento dianteiro',\n",
       " 'Direção elétrica',\n",
       " 'Kit visibilidade',\n",
       " 'Sensor de estacionamento traseiro',\n",
       " 'Aceita troca',\n",
       " 'Ipva pago',\n",
       " 'Motorização',\n",
       " 'Potência (cv)',\n",
       " 'Torque (kgf.m)',\n",
       " 'Velocidade máxima (km/h)',\n",
       " 'Tempo 0-100 (s)',\n",
       " 'Consumo cidade (km/l)',\n",
       " 'Consumo estrada (km/l)',\n",
       " 'Tração',\n",
       " 'Direção',\n",
       " 'Suspensão dianteira',\n",
       " 'Suspensão traseira',\n",
       " 'Freios dianteiros',\n",
       " 'Freios traseiros',\n",
       " 'Altura (mm)',\n",
       " 'Largura (mm)',\n",
       " 'Comprimento (mm)',\n",
       " 'Peso (kg)',\n",
       " 'Tanque (L)',\n",
       " 'Entre-eixos (mm)',\n",
       " 'Porta-Malas (L)',\n",
       " 'Ocupantes',\n",
       " 'Cd player',\n",
       " 'Computador de bordo',\n",
       " 'Baixa quilometragem',\n",
       " 'Único dono',\n",
       " 'Airbags de cortina',\n",
       " 'Cintos três-pontos para todos os ocupantes',\n",
       " 'Controle de tração',\n",
       " 'Controle eletrônico de estabilidade (esc)',\n",
       " 'Chave presencial',\n",
       " 'Encostos de cabeça no banco traseiro',\n",
       " 'Retrovisores com rebatimento elétrico',\n",
       " 'Volante com regulagem de altura e profundidade',\n",
       " 'Volante multifuncional',\n",
       " 'Bluetooth',\n",
       " 'Entradas usb',\n",
       " 'Rádio',\n",
       " 'Assistente de subida em rampa',\n",
       " 'Carregador de celular por indução',\n",
       " 'Câmera de ré',\n",
       " 'Espelhamento de celular',\n",
       " 'Farol de neblina',\n",
       " 'Fixação para cadeirinhas infantis (isofix)',\n",
       " 'Start-stop',\n",
       " 'Central multimídia',\n",
       " 'Teto solar',\n",
       " 'Piloto automático adaptativo (acc)',\n",
       " 'Alerta de ponto cego',\n",
       " 'Alerta de tráfego traseiro cruzado',\n",
       " 'Acendimento automático dos faróis',\n",
       " 'Banco do motorista com ajuste elétrico',\n",
       " 'Banco do motorista com aquecimento',\n",
       " 'Banco traseiro bipartido',\n",
       " 'Banco traseiro rebatível',\n",
       " 'Luz de cortesia no porta-luvas',\n",
       " 'Luz de cortesia no porta-malas',\n",
       " 'Regulagem de altura do facho dos faróis',\n",
       " 'Retrovisor interno eletrocrômico',\n",
       " 'Saídas de ar-condicionado na segunda fileira',\n",
       " 'Volante com regulagem de altura',\n",
       " 'Ar-condicionado digital',\n",
       " 'Farol alto automático',\n",
       " 'Faróis de led',\n",
       " 'Luz de condução diurna (drl)',\n",
       " 'Brake light',\n",
       " 'Trio elétrico',\n",
       " 'Distribuição eletrônica de frenagem (ebd)',\n",
       " 'Airbag central',\n",
       " 'Nenhuma batida',\n",
       " 'Parece novo',\n",
       " 'Pneus novos',\n",
       " 'Veículo de não fumante',\n",
       " 'Revisões realizadas',\n",
       " 'Pronta entrega',\n",
       " 'Laudo cautelar aprovado',\n",
       " 'Licenciado esse ano',\n",
       " 'Possui vistoria',\n",
       " 'Limitador de velocidade',\n",
       " 'Frenagem autônoma de emergência (aeb)',\n",
       " 'Gps',\n",
       " 'Sensor de chuva',\n",
       " 'Sensor de farol',\n",
       " 'Cd player com mp3',\n",
       " 'Saldão',\n",
       " 'Possui multas',\n",
       " 'Porta-copos',\n",
       " 'Aerofólio',\n",
       " 'Garantia de fábrica',\n",
       " 'Protetor de caçamba',\n",
       " 'Capota marítima',\n",
       " 'Wi-fi',\n",
       " 'Volante com acabamento em couro',\n",
       " 'Alerta de cinto para condutor',\n",
       " 'Alerta de cinto para passageiro da primeira fila',\n",
       " 'Ar-condicionado digital de 2 zonas',\n",
       " '7 lugares',\n",
       " 'Garantia de 1 ano',\n",
       " 'Assistente de descida',\n",
       " 'Para-choque na cor do veículo',\n",
       " 'Cluster digital',\n",
       " 'Computador de bordo digital',\n",
       " 'Chave canivete',\n",
       " 'Descanso de braço na primeira fileira',\n",
       " 'Tração dianteira',\n",
       " 'Vidros elétricos traseiros one touch',\n",
       " 'Vidros elétricos dianteiros one touch',\n",
       " 'Pneus de uso misto',\n",
       " 'Encomenda',\n",
       " 'Vidros elétricos dianteiros antiesmagamento',\n",
       " 'Vidros elétricos traseiros antiesmagamento',\n",
       " 'Airbag de joelho',\n",
       " 'Airbag de capô',\n",
       " 'Android auto sem fio',\n",
       " 'Apple carplay',\n",
       " 'Apple carplay sem fio',\n",
       " 'Câmera 360º',\n",
       " 'Seta no retrovisor',\n",
       " 'Sistema de conectividade',\n",
       " 'Rodas de aço com calotas',\n",
       " 'Android auto',\n",
       " 'Teto panorâmico',\n",
       " 'Kit multimídia com tv',\n",
       " 'Toca fitas',\n",
       " 'Mylink',\n",
       " 'Trava multilock',\n",
       " 'Airbags traseiros',\n",
       " 'Friso lateral',\n",
       " 'Caçamba de fibra',\n",
       " 'Auto hold',\n",
       " 'Ancoragem de cadeiras infantis',\n",
       " 'Farol de milha',\n",
       " 'Barras longitudinais no teto',\n",
       " 'Estepe integral',\n",
       " 'Tração traseira',\n",
       " 'Kit gnv',\n",
       " 'Apoio de cabeça para passageiros da segunda fileira',\n",
       " 'Partida por botão',\n",
       " 'Certificado',\n",
       " 'Faróis de xenônio',\n",
       " 'Estepe temporário',\n",
       " 'Pneus run flat',\n",
       " 'Leitor de placa',\n",
       " 'Assistente de manutenção de faixa',\n",
       " 'Faróis com projetor',\n",
       " 'Alerta de mudança de faixa',\n",
       " 'Capa de banco',\n",
       " 'Tração 4x4 reduzida',\n",
       " 'Entrada usb no banco de trás',\n",
       " 'Alerta de cinto para todos os ocupantes\\t',\n",
       " 'Lanternas traseiras de led',\n",
       " 'Sensor crepuscular',\n",
       " 'Banco do passageiro com ajuste elétrico',\n",
       " 'Veículo alienado',\n",
       " 'Bancos dianteiros com aquecimento',\n",
       " 'Pneus de uso off-road',\n",
       " 'Park assist paralelo',\n",
       " 'Calha de chuva',\n",
       " 'Freio a disco dianteiro',\n",
       " 'Ar quente (ar-condicionado)']"
      ]
     },
     "execution_count": 68,
     "metadata": {},
     "output_type": "execute_result"
    }
   ],
   "source": [
    "cat_variables = df2.select_dtypes('object').columns.tolist()\n",
    "cat_variables"
   ]
  },
  {
   "cell_type": "code",
   "execution_count": 62,
   "metadata": {},
   "outputs": [
    {
     "data": {
      "text/html": [
       "<div>\n",
       "<style scoped>\n",
       "    .dataframe tbody tr th:only-of-type {\n",
       "        vertical-align: middle;\n",
       "    }\n",
       "\n",
       "    .dataframe tbody tr th {\n",
       "        vertical-align: top;\n",
       "    }\n",
       "\n",
       "    .dataframe thead th {\n",
       "        text-align: right;\n",
       "    }\n",
       "</style>\n",
       "<table border=\"1\" class=\"dataframe\">\n",
       "  <thead>\n",
       "    <tr style=\"text-align: right;\">\n",
       "      <th></th>\n",
       "      <th>Valor</th>\n",
       "      <th>KM</th>\n",
       "      <th>Production year</th>\n",
       "      <th>Model year</th>\n",
       "    </tr>\n",
       "  </thead>\n",
       "  <tbody>\n",
       "    <tr>\n",
       "      <th>Valor</th>\n",
       "      <td>1.000000</td>\n",
       "      <td>-0.009173</td>\n",
       "      <td>0.309590</td>\n",
       "      <td>0.309507</td>\n",
       "    </tr>\n",
       "    <tr>\n",
       "      <th>KM</th>\n",
       "      <td>-0.009173</td>\n",
       "      <td>1.000000</td>\n",
       "      <td>-0.000645</td>\n",
       "      <td>-0.002967</td>\n",
       "    </tr>\n",
       "    <tr>\n",
       "      <th>Production year</th>\n",
       "      <td>0.309590</td>\n",
       "      <td>-0.000645</td>\n",
       "      <td>1.000000</td>\n",
       "      <td>0.987800</td>\n",
       "    </tr>\n",
       "    <tr>\n",
       "      <th>Model year</th>\n",
       "      <td>0.309507</td>\n",
       "      <td>-0.002967</td>\n",
       "      <td>0.987800</td>\n",
       "      <td>1.000000</td>\n",
       "    </tr>\n",
       "  </tbody>\n",
       "</table>\n",
       "</div>"
      ],
      "text/plain": [
       "                    Valor        KM  Production year  Model year\n",
       "Valor            1.000000 -0.009173         0.309590    0.309507\n",
       "KM              -0.009173  1.000000        -0.000645   -0.002967\n",
       "Production year  0.309590 -0.000645         1.000000    0.987800\n",
       "Model year       0.309507 -0.002967         0.987800    1.000000"
      ]
     },
     "execution_count": 62,
     "metadata": {},
     "output_type": "execute_result"
    }
   ],
   "source": [
    "corr = df2[num_variables].corr()\n",
    "corr"
   ]
  },
  {
   "cell_type": "code",
   "execution_count": 65,
   "metadata": {},
   "outputs": [
    {
     "data": {
      "text/plain": [
       "<Axes: >"
      ]
     },
     "execution_count": 65,
     "metadata": {},
     "output_type": "execute_result"
    },
    {
     "data": {
      "image/png": "[encoded data removed]",
      "text/plain": [
       "<Figure size 640x480 with 2 Axes>"
      ]
     },
     "metadata": {},
     "output_type": "display_data"
    }
   ],
   "source": [
    "import matplotlib.pyplot as plt\n",
    "import seaborn as sns\n",
    "\n",
    "sns.heatmap(corr)"
   ]
  },
  {
   "cell_type": "code",
   "execution_count": 66,
   "metadata": {},
   "outputs": [
    {
     "data": {
      "text/plain": [
       "0       270000\n",
       "1        30016\n",
       "2         3617\n",
       "3        23608\n",
       "4         7972\n",
       "         ...  \n",
       "3195     65456\n",
       "3196         1\n",
       "3197     45660\n",
       "3198     20000\n",
       "3199     63000\n",
       "Name: KM, Length: 3200, dtype: int64"
      ]
     },
     "execution_count": 66,
     "metadata": {},
     "output_type": "execute_result"
    }
   ],
   "source": [
    "df2['KM']"
   ]
  },
  {
   "cell_type": "code",
   "execution_count": 203,
   "metadata": {},
   "outputs": [],
   "source": [
    "from sklearn.preprocessing import OneHotEncoder, StandardScaler\n",
    "from sklearn.compose import ColumnTransformer\n",
    "\n",
    "df2.drop(df2[df2['KM'] > 1000000].index, inplace=True)\n",
    "X = df2.drop('Valor', axis=1)\n",
    "y = df2['Valor']\n",
    "\n",
    "num_variables = X.select_dtypes(['int64']).columns.tolist()\n",
    "cat_variables = X.select_dtypes('object').columns.tolist()\n",
    "\n",
    "X[cat_variables] = X[cat_variables].astype(str)\n",
    "\n",
    "ct = ColumnTransformer([('num', StandardScaler(), num_variables),\n",
    "                        ('cat', OneHotEncoder(), cat_variables)])\n",
    "\n",
    "X_trans = ct.fit_transform(X)"
   ]
  },
  {
   "cell_type": "code",
   "execution_count": 205,
   "metadata": {},
   "outputs": [
    {
     "data": {
      "text/plain": [
       "array(['KM', 'Production year', 'Model year'], dtype=object)"
      ]
     },
     "execution_count": 205,
     "metadata": {},
     "output_type": "execute_result"
    }
   ],
   "source": [
    "ct.named_transformers_['num'].get_feature_names_out()"
   ]
  },
  {
   "cell_type": "code",
   "execution_count": 114,
   "metadata": {},
   "outputs": [
    {
     "data": {
      "text/plain": [
       "{'num': slice(0, 3, None),\n",
       " 'cat': slice(3, 6031, None),\n",
       " 'remainder': slice(0, 0, None)}"
      ]
     },
     "execution_count": 114,
     "metadata": {},
     "output_type": "execute_result"
    }
   ],
   "source": [
    "ct.output_indices_"
   ]
  },
  {
   "cell_type": "code",
   "execution_count": 204,
   "metadata": {},
   "outputs": [
    {
     "data": {
      "text/plain": [
       "<Axes: xlabel='KM', ylabel='Count'>"
      ]
     },
     "execution_count": 204,
     "metadata": {},
     "output_type": "execute_result"
    },
    {
     "data": {
      "image/png": "[encoded data removed]",
      "text/plain": [
       "<Figure size 640x480 with 1 Axes>"
      ]
     },
     "metadata": {},
     "output_type": "display_data"
    }
   ],
   "source": [
    "sns.histplot(X['KM'])"
   ]
  },
  {
   "cell_type": "code",
   "execution_count": 209,
   "metadata": {},
   "outputs": [
    {
     "data": {
      "text/plain": [
       "<3195x99 sparse matrix of type '<class 'numpy.float64'>'\n",
       "\twith 153423 stored elements in Compressed Sparse Row format>"
      ]
     },
     "execution_count": 209,
     "metadata": {},
     "output_type": "execute_result"
    }
   ],
   "source": [
    "from sklearn.feature_selection import VarianceThreshold\n",
    "\n",
    "sel = VarianceThreshold(threshold=(.8*(1-.8)))\n",
    "\n",
    "X_sel = sel.fit_transform(X_trans[:,3:])\n",
    "X_sel"
   ]
  },
  {
   "cell_type": "code",
   "execution_count": 213,
   "metadata": {},
   "outputs": [
    {
     "data": {
      "text/plain": [
       "<3195x6030 sparse matrix of type '<class 'numpy.float64'>'\n",
       "\twith 629415 stored elements in Compressed Sparse Row format>"
      ]
     },
     "execution_count": 213,
     "metadata": {},
     "output_type": "execute_result"
    }
   ],
   "source": [
    "X_trans"
   ]
  },
  {
   "cell_type": "code",
   "execution_count": 215,
   "metadata": {},
   "outputs": [],
   "source": [
    "X_sel2 = np.concatenate((X_trans.toarray()[:,0:3], X_sel.toarray()), axis=1)"
   ]
  },
  {
   "cell_type": "code",
   "execution_count": 217,
   "metadata": {},
   "outputs": [
    {
     "data": {
      "text/plain": [
       "(3195, 102)"
      ]
     },
     "execution_count": 217,
     "metadata": {},
     "output_type": "execute_result"
    }
   ],
   "source": [
    "X_sel2.shape"
   ]
  },
  {
   "cell_type": "code",
   "execution_count": 220,
   "metadata": {},
   "outputs": [
    {
     "data": {
      "text/plain": [
       "array(['x1393', 'x1396', 'x1400', 'x1416', 'x1420', 'x1427', 'x1428',\n",
       "       'x1433', 'x1434', 'x1435', 'x1436', 'x1439', 'x1440', 'x1443',\n",
       "       'x1444', 'x1447', 'x1448', 'x1449', 'x1450', 'x1453', 'x1454',\n",
       "       'x1455', 'x1456', 'x1457', 'x1458', 'x1459', 'x1460', 'x1461',\n",
       "       'x1462', 'x1465', 'x1466', 'x1467', 'x1468', 'x1471', 'x1472',\n",
       "       'x1473', 'x1474', 'x1475', 'x1476', 'x1481', 'x2628', 'x3722',\n",
       "       'x3730', 'x3733', 'x3735', 'x3779', 'x3871', 'x3914', 'x3953',\n",
       "       'x5751', 'x5752', 'x5755', 'x5756', 'x5757', 'x5758', 'x5763',\n",
       "       'x5764', 'x5769', 'x5770', 'x5775', 'x5776', 'x5777', 'x5778',\n",
       "       'x5779', 'x5780', 'x5781', 'x5782', 'x5791', 'x5792', 'x5797',\n",
       "       'x5798', 'x5801', 'x5802', 'x5827', 'x5828', 'x5839', 'x5840',\n",
       "       'x5841', 'x5842', 'x5845', 'x5846', 'x5847', 'x5848', 'x5849',\n",
       "       'x5850', 'x5851', 'x5852', 'x5853', 'x5854', 'x5855', 'x5856',\n",
       "       'x5857', 'x5858', 'x5859', 'x5860', 'x5869', 'x5870', 'x5873',\n",
       "       'x5874'], dtype=object)"
      ]
     },
     "execution_count": 220,
     "metadata": {},
     "output_type": "execute_result"
    }
   ],
   "source": [
    "sel.get_feature_names_out()"
   ]
  },
  {
   "cell_type": "code",
   "execution_count": 221,
   "metadata": {},
   "outputs": [
    {
     "data": {
      "text/plain": [
       "<3195x6027 sparse matrix of type '<class 'numpy.float64'>'\n",
       "\twith 619830 stored elements in Compressed Sparse Row format>"
      ]
     },
     "execution_count": 221,
     "metadata": {},
     "output_type": "execute_result"
    }
   ],
   "source": [
    "X_trans[:,3:]"
   ]
  }
 ],
 "metadata": {
  "kernelspec": {
   "display_name": "Python 3",
   "language": "python",
   "name": "python3"
  },
  "language_info": {
   "codemirror_mode": {
    "name": "ipython",
    "version": 3
   },
   "file_extension": ".py",
   "mimetype": "text/x-python",
   "name": "python",
   "nbconvert_exporter": "python",
   "pygments_lexer": "ipython3",
   "version": "3.8.10"
  }
 },
 "nbformat": 4,
 "nbformat_minor": 2
}
